{
 "cells": [
  {
   "cell_type": "code",
   "execution_count": 9,
   "id": "fd7bbca0-1dc2-41cd-9865-513f2beb332c",
   "metadata": {},
   "outputs": [],
   "source": [
    "from geopy.geocoders import Nominatim\n",
    "geolocator = Nominatim(user_agent=\"travel_optimizer_v1\")\n",
    "latitude=[]\n",
    "longitude=[]"
   ]
  },
  {
   "cell_type": "code",
   "execution_count": 10,
   "id": "28c34896-5ddc-4192-bd20-f10f1ed85f84",
   "metadata": {},
   "outputs": [
    {
     "name": "stdout",
     "output_type": "stream",
     "text": [
      "The latitude of the location is: 27.71067675\n",
      "The longitude of the location is: 85.34811572922719\n"
     ]
    }
   ],
   "source": [
    "location = geolocator.geocode(\"Pashupatinath,Kathmandu\")\n",
    "\n",
    "if location:\n",
    "    print(\"The latitude of the location is:\", location.latitude)\n",
    "    print(\"The longitude of the location is:\", location.longitude)\n",
    "else:\n",
    "    print(\"Location not found. Please check the query or try again.\")"
   ]
  },
  {
   "cell_type": "code",
   "execution_count": 13,
   "id": "099cc46d-6a93-4d5e-94c4-eb08e9f5c9fc",
   "metadata": {},
   "outputs": [
    {
     "name": "stdout",
     "output_type": "stream",
     "text": [
      "Saved 42 places with coordinates to finaIdata.csv.\n"
     ]
    }
   ],
   "source": [
    "import json\n",
    "import csv\n",
    "from geopy.geocoders import Nominatim\n",
    "from geopy.exc import GeocoderTimedOut, GeocoderServiceError\n",
    "\n",
    "# Initialize geolocator with a user agent\n",
    "geolocator = Nominatim(user_agent=\"geo_locator_app\")\n",
    "\n",
    "# Function to get latitude and longitude using geopy\n",
    "def get_lat_lon(place_name):\n",
    "    try:\n",
    "        location = geolocator.geocode(place_name)\n",
    "        if location:\n",
    "            return location.latitude, location.longitude\n",
    "    except (GeocoderTimedOut, GeocoderServiceError) as e:\n",
    "        print(f\"Error for {place_name}: {e}\")\n",
    "    return None, None\n",
    "\n",
    "# Load place data from JSON\n",
    "input_json_file = \"renumbered_places.json\"\n",
    "output_csv_file = \"finaIdata.csv\"\n",
    "\n",
    "with open(input_json_file, \"r\") as json_file:\n",
    "    places = json.load(json_file)  # Expecting a list of dictionaries with \"id\" and \"name\"\n",
    "\n",
    "# Fetch coordinates\n",
    "results = []\n",
    "for place in places:\n",
    "    place_id = place.get(\"id\")\n",
    "    place_name = place.get(\"name\")\n",
    "    if not place_name:\n",
    "        continue  # Skip if no name provided\n",
    "    latitude, longitude = get_lat_lon(place_name)\n",
    "    if latitude is not None and longitude is not None:\n",
    "        results.append({\n",
    "            \"ID\": place_id,\n",
    "            \"Name\": place_name,\n",
    "            \"Latitude\": latitude,\n",
    "            \"Longitude\": longitude,\n",
    "            \"Coordinates\": f\"{latitude}, {longitude}\"\n",
    "        })\n",
    "\n",
    "# Save to CSV\n",
    "with open(output_csv_file, \"w\", newline=\"\", encoding=\"utf-8\") as csv_file:\n",
    "    fieldnames = [\"ID\", \"Name\", \"Latitude\", \"Longitude\", \"Coordinates\"]\n",
    "    writer = csv.DictWriter(csv_file, fieldnames=fieldnames)\n",
    "    writer.writeheader()\n",
    "    writer.writerows(results)\n",
    "\n",
    "print(f\"Saved {len(results)} places with coordinates to {output_csv_file}.\")\n"
   ]
  },
  {
   "cell_type": "code",
   "execution_count": null,
   "id": "f89d2e29-18ab-4849-b31e-aaa2458a4c9b",
   "metadata": {},
   "outputs": [],
   "source": [
    "\n"
   ]
  },
  {
   "cell_type": "code",
   "execution_count": null,
   "id": "eac8c340-8297-451d-93a1-5d755b3887ad",
   "metadata": {},
   "outputs": [],
   "source": []
  }
 ],
 "metadata": {
  "kernelspec": {
   "display_name": "Python 3 (ipykernel)",
   "language": "python",
   "name": "python3"
  },
  "language_info": {
   "codemirror_mode": {
    "name": "ipython",
    "version": 3
   },
   "file_extension": ".py",
   "mimetype": "text/x-python",
   "name": "python",
   "nbconvert_exporter": "python",
   "pygments_lexer": "ipython3",
   "version": "3.9.20"
  }
 },
 "nbformat": 4,
 "nbformat_minor": 5
}
