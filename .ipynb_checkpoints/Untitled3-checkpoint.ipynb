{
 "cells": [
  {
   "cell_type": "code",
   "execution_count": 4,
   "id": "696ee2b9-b4bf-415b-ae4d-425f5e647d20",
   "metadata": {},
   "outputs": [
    {
     "name": "stdout",
     "output_type": "stream",
     "text": [
      "Distance matrix saved as att48_distance_matrix.csv\n"
     ]
    }
   ],
   "source": [
    "import numpy as np\n",
    "\n",
    "def read_tsp_file(file_path):\n",
    "    \"\"\" Reads ATT48 TSP file and extracts coordinates \"\"\"\n",
    "    with open(file_path, \"r\") as f:\n",
    "        lines = f.readlines()\n",
    "    \n",
    "    node_coord_section = False\n",
    "    coordinates = {}\n",
    "\n",
    "    for line in lines:\n",
    "        if \"NODE_COORD_SECTION\" in line:\n",
    "            node_coord_section = True\n",
    "            continue\n",
    "        if \"EOF\" in line:\n",
    "            break\n",
    "        if node_coord_section:\n",
    "            parts = line.strip().split()\n",
    "            if len(parts) == 3:\n",
    "                index = int(parts[0])\n",
    "                x, y = float(parts[1]), float(parts[2])\n",
    "                coordinates[index] = (x, y)\n",
    "\n",
    "    return coordinates\n",
    "\n",
    "def att_distance(x1, y1, x2, y2):\n",
    "    \"\"\" Computes pseudo-Euclidean distance for ATT format \"\"\"\n",
    "    xd, yd = x1 - x2, y1 - y2\n",
    "    rij = np.sqrt((xd**2 + yd**2) / 10.0)\n",
    "    return int(round(rij))\n",
    "\n",
    "def compute_distance_matrix(coordinates):\n",
    "    \"\"\" Generates distance matrix from coordinates \"\"\"\n",
    "    n = len(coordinates)\n",
    "    distance_matrix = np.zeros((n, n), dtype=int)\n",
    "\n",
    "    for i in range(1, n+1):\n",
    "        for j in range(1, n+1):\n",
    "            if i != j:\n",
    "                x1, y1 = coordinates[i]\n",
    "                x2, y2 = coordinates[j]\n",
    "                distance_matrix[i-1, j-1] = att_distance(x1, y1, x2, y2)\n",
    "\n",
    "    return distance_matrix\n",
    "\n",
    "# Path to your att48.tsp file\n",
    "file_path = \"att48.tsp\"  # Update with actual file path\n",
    "coordinates = read_tsp_file(file_path)\n",
    "distance_matrix = compute_distance_matrix(coordinates)\n",
    "\n",
    "# Save to CSV\n",
    "np.savetxt(\"att48_distance_matrix.csv\", distance_matrix, delimiter=\",\", fmt=\"%d\")\n",
    "print(\"Distance matrix saved as att48_distance_matrix.csv\")\n"
   ]
  },
  {
   "cell_type": "code",
   "execution_count": 5,
   "id": "ce37abd7-acd5-452c-84ca-e0167dc351e4",
   "metadata": {},
   "outputs": [],
   "source": [
    "import numpy as np\n",
    "import pandas as pd\n",
    "\n",
    "# Example: loading a CSV with the distance matrix (if it's not already numpy)\n",
    "df = pd.read_csv(\"att48_distance_matrix.csv\", header=None)  # Load without headers\n",
    "\n",
    "# Convert the DataFrame to a numpy array (excluding the first row and column)\n",
    "distance_matrix = df.values[1:, 1:]  # Assuming the first row and column are non-relevant\n",
    "\n",
    "# Save to .npy file\n",
    "np.save(\"att48distance_matrix.npy\", distance_matrix)\n"
   ]
  },
  {
   "cell_type": "code",
   "execution_count": 3,
   "id": "204c5244-b74c-4f27-93e6-680765852b56",
   "metadata": {},
   "outputs": [
    {
     "name": "stdout",
     "output_type": "stream",
     "text": [
      "Distance matrix saved as att48_distance_matrix.npy\n"
     ]
    }
   ],
   "source": [
    "import numpy as np\n",
    "\n",
    "# Load the CSV file\n",
    "csv_file = \"att48_distance_matrix.csv\"\n",
    "distance_matrix = np.loadtxt(csv_file, delimiter=\",\")\n",
    "\n",
    "# Save as .npy file\n",
    "npy_file = \"att48_distance_matrix.npy\"\n",
    "np.save(npy_file, distance_matrix)\n",
    "\n",
    "print(f\"Distance matrix saved as {npy_file}\")\n"
   ]
  },
  {
   "cell_type": "code",
   "execution_count": null,
   "id": "55fcc796-02a4-41d6-b8d9-ee7832ea8c2d",
   "metadata": {},
   "outputs": [],
   "source": []
  }
 ],
 "metadata": {
  "kernelspec": {
   "display_name": "Python 3 (ipykernel)",
   "language": "python",
   "name": "python3"
  },
  "language_info": {
   "codemirror_mode": {
    "name": "ipython",
    "version": 3
   },
   "file_extension": ".py",
   "mimetype": "text/x-python",
   "name": "python",
   "nbconvert_exporter": "python",
   "pygments_lexer": "ipython3",
   "version": "3.9.20"
  }
 },
 "nbformat": 4,
 "nbformat_minor": 5
}
