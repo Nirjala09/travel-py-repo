{
 "cells": [
  {
   "cell_type": "code",
   "execution_count": 1,
   "id": "a61b8f84-ca27-42e1-b1da-b19a89486d56",
   "metadata": {},
   "outputs": [],
   "source": [
    "import requests"
   ]
  },
  {
   "cell_type": "code",
   "execution_count": 6,
   "id": "d1711ee4-5cba-4c4a-8c0c-c4692f54b0df",
   "metadata": {},
   "outputs": [
    {
     "name": "stdout",
     "output_type": "stream",
     "text": [
      "API Key is working but no routes found. Check your input locations.\n",
      "DLqbNXEwEgOpU4a-NYnmxUa9F3o=\n"
     ]
    }
   ],
   "source": [
    "\n",
    "# Replace with your actual API key\n",
    "API_KEY = \"DLqbNXEwEgOpU4a-NYnmxUa9F3o=\"\n",
    "\n",
    "# Define origin and destination (replace with actual coordinates or addresses)\n",
    "origin = \"27.700769, 85.300140\"  # Kathmandu center\n",
    "destination = \"27.673984, 85.429286\"  # Bhaktapur\n",
    "\n",
    "# Google Maps Directions API endpoint\n",
    "url = f\"https://maps.googleapis.com/maps/api/directions/json?origin={origin}&destination={destination}&key={API_KEY}\"\n",
    "\n",
    "# Make the request\n",
    "response = requests.get(url)\n",
    "\n",
    "# Print the response\n",
    "if response.status_code == 200:\n",
    "    data = response.json()\n",
    "    if \"routes\" in data and len(data[\"routes\"]) > 0:\n",
    "        print(\"API Key is working! Here’s a summary:\")\n",
    "        print(f\"Total Routes Found: {len(data['routes'])}\")\n",
    "        print(f\"Distance: {data['routes'][0]['legs'][0]['distance']['text']}\")\n",
    "        print(f\"Duration: {data['routes'][0]['legs'][0]['duration']['text']}\")\n",
    "    else:\n",
    "        print(\"API Key is working but no routes found. Check your input locations.\")\n",
    "else:\n",
    "    print(\"Error:\", response.json())\n",
    "\n",
    "print(API_KEY)"
   ]
  },
  {
   "cell_type": "code",
   "execution_count": 3,
   "id": "412c2e7e-6ed0-403c-9243-43810e576b82",
   "metadata": {},
   "outputs": [
    {
     "name": "stdout",
     "output_type": "stream",
     "text": [
      "⚠️ API Key is valid but no routes found. Check your locations.\n"
     ]
    }
   ],
   "source": [
    "import requests\n",
    "\n",
    "# Replace with your actual API key\n",
    "API_KEY = \"DLqbNXEwEgOpU4a-NYnmxUa9F3o=\"\n",
    "\n",
    "# Define origin and destination (can be addresses or lat,lng)\n",
    "origin = \"Kathmandu, Nepal\"\n",
    "destination = \"Bhaktapur, Nepal\"\n",
    "\n",
    "# API endpoint\n",
    "url = \"https://maps.googleapis.com/maps/api/directions/json\"\n",
    "\n",
    "# API request parameters\n",
    "params = {\n",
    "    \"origin\": origin,\n",
    "    \"destination\": destination,\n",
    "    \"alternatives\": True,  # Get alternative routes\n",
    "    \"key\": API_KEY\n",
    "}\n",
    "\n",
    "# Make the request\n",
    "response = requests.get(url, params=params)\n",
    "data = response.json()\n",
    "\n",
    "# Check for errors\n",
    "if response.status_code == 200:\n",
    "    if \"routes\" in data and len(data[\"routes\"]) > 0:\n",
    "        print(\"✅ API Key is working! Here’s a summary:\\n\")\n",
    "        print(f\"Total Routes Found: {len(data['routes'])}\")\n",
    "        \n",
    "        # Extract first route details\n",
    "        first_route = data[\"routes\"][0]\n",
    "        first_leg = first_route[\"legs\"][0]  # First segment of journey\n",
    "        \n",
    "        print(f\"Start: {first_leg['start_address']}\")\n",
    "        print(f\"End: {first_leg['end_address']}\")\n",
    "        print(f\"Distance: {first_leg['distance']['text']}\")\n",
    "        print(f\"Duration: {first_leg['duration']['text']}\")\n",
    "        print(f\"Polyline (Encoded): {first_route['overview_polyline']['points']}\")\n",
    "    \n",
    "    else:\n",
    "        print(\"⚠️ API Key is valid but no routes found. Check your locations.\")\n",
    "else:\n",
    "    print(f\"❌ Error: {data.get('error_message', 'Unknown error')}\")\n"
   ]
  },
  {
   "cell_type": "code",
   "execution_count": null,
   "id": "da2e6b50-e43a-48e1-8e1c-e1f691e9de5b",
   "metadata": {},
   "outputs": [],
   "source": []
  }
 ],
 "metadata": {
  "kernelspec": {
   "display_name": "Python 3 (ipykernel)",
   "language": "python",
   "name": "python3"
  },
  "language_info": {
   "codemirror_mode": {
    "name": "ipython",
    "version": 3
   },
   "file_extension": ".py",
   "mimetype": "text/x-python",
   "name": "python",
   "nbconvert_exporter": "python",
   "pygments_lexer": "ipython3",
   "version": "3.9.20"
  }
 },
 "nbformat": 4,
 "nbformat_minor": 5
}
