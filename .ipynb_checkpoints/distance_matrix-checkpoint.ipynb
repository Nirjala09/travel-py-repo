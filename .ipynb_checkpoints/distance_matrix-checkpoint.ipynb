{
 "cells": [
  {
   "cell_type": "code",
   "execution_count": 2,
   "id": "12016041-ba8b-4c51-a6f7-3b67d94654de",
   "metadata": {},
   "outputs": [
    {
     "name": "stdout",
     "output_type": "stream",
     "text": [
      "Collecting pandas\n",
      "  Downloading pandas-2.2.3-cp39-cp39-win_amd64.whl.metadata (19 kB)\n",
      "Collecting numpy>=1.22.4 (from pandas)\n",
      "  Downloading numpy-2.0.2-cp39-cp39-win_amd64.whl.metadata (59 kB)\n",
      "Requirement already satisfied: python-dateutil>=2.8.2 in c:\\users\\gcpra\\anaconda3\\envs\\condaenv\\lib\\site-packages (from pandas) (2.9.0.post0)\n",
      "Requirement already satisfied: pytz>=2020.1 in c:\\users\\gcpra\\anaconda3\\envs\\condaenv\\lib\\site-packages (from pandas) (2024.1)\n",
      "Collecting tzdata>=2022.7 (from pandas)\n",
      "  Downloading tzdata-2024.2-py2.py3-none-any.whl.metadata (1.4 kB)\n",
      "Requirement already satisfied: six>=1.5 in c:\\users\\gcpra\\anaconda3\\envs\\condaenv\\lib\\site-packages (from python-dateutil>=2.8.2->pandas) (1.16.0)\n",
      "Downloading pandas-2.2.3-cp39-cp39-win_amd64.whl (11.6 MB)\n",
      "   ---------------------------------------- 0.0/11.6 MB ? eta -:--:--\n",
      "   -- ------------------------------------- 0.8/11.6 MB 5.6 MB/s eta 0:00:02\n",
      "   ---------- ----------------------------- 3.1/11.6 MB 9.7 MB/s eta 0:00:01\n",
      "   ------------------------ --------------- 7.1/11.6 MB 13.6 MB/s eta 0:00:01\n",
      "   ---------------------------------------  11.5/11.6 MB 16.0 MB/s eta 0:00:01\n",
      "   ---------------------------------------- 11.6/11.6 MB 15.8 MB/s eta 0:00:00\n",
      "Downloading numpy-2.0.2-cp39-cp39-win_amd64.whl (15.9 MB)\n",
      "   ---------------------------------------- 0.0/15.9 MB ? eta -:--:--\n",
      "   ----- ---------------------------------- 2.4/15.9 MB 22.6 MB/s eta 0:00:01\n",
      "   ---------------------- ----------------- 8.9/15.9 MB 22.2 MB/s eta 0:00:01\n",
      "   -------------------------------- ------- 12.8/15.9 MB 21.8 MB/s eta 0:00:01\n",
      "   ---------------------------------------  15.7/15.9 MB 19.4 MB/s eta 0:00:01\n",
      "   ---------------------------------------- 15.9/15.9 MB 17.9 MB/s eta 0:00:00\n",
      "Downloading tzdata-2024.2-py2.py3-none-any.whl (346 kB)\n",
      "Installing collected packages: tzdata, numpy, pandas\n",
      "Successfully installed numpy-2.0.2 pandas-2.2.3 tzdata-2024.2\n",
      "Note: you may need to restart the kernel to use updated packages.\n"
     ]
    }
   ],
   "source": [
    "pip install pandas\n"
   ]
  },
  {
   "cell_type": "code",
   "execution_count": 2,
   "id": "b1289780-910b-4dd5-b51b-cb032f80cda5",
   "metadata": {},
   "outputs": [
    {
     "name": "stdout",
     "output_type": "stream",
     "text": [
      "Collecting gomaps\n",
      "  Downloading gomaps-0.3.6-py3-none-any.whl.metadata (3.5 kB)\n",
      "Collecting requests-html (from gomaps)\n",
      "  Downloading requests_html-0.10.0-py3-none-any.whl.metadata (15 kB)\n",
      "Collecting pyppdf (from gomaps)\n",
      "  Downloading pyppdf-0.1.2.tar.gz (26 kB)\n",
      "  Preparing metadata (setup.py): started\n",
      "  Preparing metadata (setup.py): finished with status 'done'\n",
      "Collecting GeoLiberator (from gomaps)\n",
      "  Downloading GeoLiberator-0.3.7.tar.gz (9.1 kB)\n",
      "  Preparing metadata (setup.py): started\n",
      "  Preparing metadata (setup.py): finished with status 'done'\n",
      "Requirement already satisfied: certifi in c:\\users\\gcpra\\anaconda3\\envs\\condaenv\\lib\\site-packages (from pyppdf->gomaps) (2024.8.30)\n",
      "Collecting click (from pyppdf->gomaps)\n",
      "  Downloading click-8.1.7-py3-none-any.whl.metadata (3.0 kB)\n",
      "Requirement already satisfied: psutil in c:\\users\\gcpra\\anaconda3\\envs\\condaenv\\lib\\site-packages (from pyppdf->gomaps) (5.9.0)\n",
      "Collecting litereval>=0.0.9 (from pyppdf->gomaps)\n",
      "  Downloading litereval-0.0.11.tar.gz (20 kB)\n",
      "  Preparing metadata (setup.py): started\n",
      "  Preparing metadata (setup.py): finished with status 'done'\n",
      "Collecting pyppeteer>=0.2.2 (from pyppdf->gomaps)\n",
      "  Downloading pyppeteer-2.0.0-py3-none-any.whl.metadata (7.1 kB)\n",
      "Requirement already satisfied: requests in c:\\users\\gcpra\\anaconda3\\envs\\condaenv\\lib\\site-packages (from requests-html->gomaps) (2.32.3)\n",
      "Collecting pyquery (from requests-html->gomaps)\n",
      "  Downloading pyquery-2.0.1-py3-none-any.whl.metadata (9.0 kB)\n",
      "Collecting fake-useragent (from requests-html->gomaps)\n",
      "  Downloading fake_useragent-2.0.2-py3-none-any.whl.metadata (17 kB)\n",
      "Collecting parse (from requests-html->gomaps)\n",
      "  Downloading parse-1.20.2-py2.py3-none-any.whl.metadata (22 kB)\n",
      "Collecting bs4 (from requests-html->gomaps)\n",
      "  Using cached bs4-0.0.2-py2.py3-none-any.whl.metadata (411 bytes)\n",
      "Collecting w3lib (from requests-html->gomaps)\n",
      "  Downloading w3lib-2.2.1-py3-none-any.whl.metadata (2.1 kB)\n",
      "Collecting appdirs<2.0.0,>=1.4.3 (from pyppeteer>=0.2.2->pyppdf->gomaps)\n",
      "  Downloading appdirs-1.4.4-py2.py3-none-any.whl.metadata (9.0 kB)\n",
      "Requirement already satisfied: importlib-metadata>=1.4 in c:\\users\\gcpra\\anaconda3\\envs\\condaenv\\lib\\site-packages (from pyppeteer>=0.2.2->pyppdf->gomaps) (7.0.1)\n",
      "Collecting pyee<12.0.0,>=11.0.0 (from pyppeteer>=0.2.2->pyppdf->gomaps)\n",
      "  Downloading pyee-11.1.1-py3-none-any.whl.metadata (2.8 kB)\n",
      "Collecting tqdm<5.0.0,>=4.42.1 (from pyppeteer>=0.2.2->pyppdf->gomaps)\n",
      "  Downloading tqdm-4.67.1-py3-none-any.whl.metadata (57 kB)\n",
      "Collecting urllib3<2.0.0,>=1.25.8 (from pyppeteer>=0.2.2->pyppdf->gomaps)\n",
      "  Downloading urllib3-1.26.20-py2.py3-none-any.whl.metadata (50 kB)\n",
      "Collecting websockets<11.0,>=10.0 (from pyppeteer>=0.2.2->pyppdf->gomaps)\n",
      "  Downloading websockets-10.4-cp39-cp39-win_amd64.whl.metadata (6.4 kB)\n",
      "Requirement already satisfied: beautifulsoup4 in c:\\users\\gcpra\\anaconda3\\envs\\condaenv\\lib\\site-packages (from bs4->requests-html->gomaps) (4.12.3)\n",
      "Requirement already satisfied: colorama in c:\\users\\gcpra\\anaconda3\\envs\\condaenv\\lib\\site-packages (from click->pyppdf->gomaps) (0.4.6)\n",
      "Collecting importlib-resources>=6.0 (from fake-useragent->requests-html->gomaps)\n",
      "  Downloading importlib_resources-6.4.5-py3-none-any.whl.metadata (4.0 kB)\n",
      "Requirement already satisfied: lxml>=2.1 in c:\\users\\gcpra\\anaconda3\\envs\\condaenv\\lib\\site-packages (from pyquery->requests-html->gomaps) (5.3.0)\n",
      "Collecting cssselect>=1.2.0 (from pyquery->requests-html->gomaps)\n",
      "  Downloading cssselect-1.2.0-py2.py3-none-any.whl.metadata (2.2 kB)\n",
      "Requirement already satisfied: charset-normalizer<4,>=2 in c:\\users\\gcpra\\anaconda3\\envs\\condaenv\\lib\\site-packages (from requests->requests-html->gomaps) (3.3.2)\n",
      "Requirement already satisfied: idna<4,>=2.5 in c:\\users\\gcpra\\anaconda3\\envs\\condaenv\\lib\\site-packages (from requests->requests-html->gomaps) (3.10)\n",
      "Requirement already satisfied: zipp>=0.5 in c:\\users\\gcpra\\anaconda3\\envs\\condaenv\\lib\\site-packages (from importlib-metadata>=1.4->pyppeteer>=0.2.2->pyppdf->gomaps) (3.20.2)\n",
      "Requirement already satisfied: typing-extensions in c:\\users\\gcpra\\anaconda3\\envs\\condaenv\\lib\\site-packages (from pyee<12.0.0,>=11.0.0->pyppeteer>=0.2.2->pyppdf->gomaps) (4.11.0)\n",
      "Requirement already satisfied: soupsieve>1.2 in c:\\users\\gcpra\\anaconda3\\envs\\condaenv\\lib\\site-packages (from beautifulsoup4->bs4->requests-html->gomaps) (2.5)\n",
      "Downloading gomaps-0.3.6-py3-none-any.whl (10 kB)\n",
      "Downloading requests_html-0.10.0-py3-none-any.whl (13 kB)\n",
      "Downloading pyppeteer-2.0.0-py3-none-any.whl (82 kB)\n",
      "Using cached bs4-0.0.2-py2.py3-none-any.whl (1.2 kB)\n",
      "Downloading click-8.1.7-py3-none-any.whl (97 kB)\n",
      "Downloading fake_useragent-2.0.2-py3-none-any.whl (201 kB)\n",
      "Downloading parse-1.20.2-py2.py3-none-any.whl (20 kB)\n",
      "Downloading pyquery-2.0.1-py3-none-any.whl (22 kB)\n",
      "Downloading w3lib-2.2.1-py3-none-any.whl (21 kB)\n",
      "Downloading appdirs-1.4.4-py2.py3-none-any.whl (9.6 kB)\n",
      "Downloading cssselect-1.2.0-py2.py3-none-any.whl (18 kB)\n",
      "Downloading importlib_resources-6.4.5-py3-none-any.whl (36 kB)\n",
      "Downloading pyee-11.1.1-py3-none-any.whl (15 kB)\n",
      "Downloading tqdm-4.67.1-py3-none-any.whl (78 kB)\n",
      "Downloading urllib3-1.26.20-py2.py3-none-any.whl (144 kB)\n",
      "Downloading websockets-10.4-cp39-cp39-win_amd64.whl (101 kB)\n",
      "Building wheels for collected packages: GeoLiberator, pyppdf, litereval\n",
      "  Building wheel for GeoLiberator (setup.py): started\n",
      "  Building wheel for GeoLiberator (setup.py): finished with status 'done'\n",
      "  Created wheel for GeoLiberator: filename=GeoLiberator-0.3.7-py3-none-any.whl size=9622 sha256=fdbdb894909c5ccb31b7d6bd584209b2e4572f1787fb6ca1a17902690ee73da6\n",
      "  Stored in directory: c:\\users\\gcpra\\appdata\\local\\pip\\cache\\wheels\\fb\\b6\\19\\1cd8adbf6ffa93512ab5a11e29122d6abbb60e49613f3d8343\n",
      "  Building wheel for pyppdf (setup.py): started\n",
      "  Building wheel for pyppdf (setup.py): finished with status 'done'\n",
      "  Created wheel for pyppdf: filename=pyppdf-0.1.2-py3-none-any.whl size=11124 sha256=7edb1f541b92c52e4fb302a272a1d0f03587559fbb6590b80918d68c78dc86a1\n",
      "  Stored in directory: c:\\users\\gcpra\\appdata\\local\\pip\\cache\\wheels\\5e\\41\\3a\\64c67deaedcbfc2b8caaeb2b7dd29dc448f992441a8b8982de\n",
      "  Building wheel for litereval (setup.py): started\n",
      "  Building wheel for litereval (setup.py): finished with status 'done'\n",
      "  Created wheel for litereval: filename=litereval-0.0.11-py3-none-any.whl size=6047 sha256=480603fc780a2b39964dba1ca52cfe9d4c45ab5e99873dead717fa805ca18d08\n",
      "  Stored in directory: c:\\users\\gcpra\\appdata\\local\\pip\\cache\\wheels\\40\\71\\d4\\48431c0c6c44c4a2566e2c88c080c84550eefd322bb7e28b00\n",
      "Successfully built GeoLiberator pyppdf litereval\n",
      "Installing collected packages: parse, GeoLiberator, appdirs, websockets, w3lib, urllib3, tqdm, pyee, litereval, importlib-resources, cssselect, click, pyquery, pyppeteer, fake-useragent, bs4, requests-html, pyppdf, gomaps\n",
      "  Attempting uninstall: urllib3\n",
      "    Found existing installation: urllib3 2.2.3\n",
      "    Uninstalling urllib3-2.2.3:\n",
      "      Successfully uninstalled urllib3-2.2.3\n",
      "Successfully installed GeoLiberator-0.3.7 appdirs-1.4.4 bs4-0.0.2 click-8.1.7 cssselect-1.2.0 fake-useragent-2.0.2 gomaps-0.3.6 importlib-resources-6.4.5 litereval-0.0.11 parse-1.20.2 pyee-11.1.1 pyppdf-0.1.2 pyppeteer-2.0.0 pyquery-2.0.1 requests-html-0.10.0 tqdm-4.67.1 urllib3-1.26.20 w3lib-2.2.1 websockets-10.4\n",
      "Note: you may need to restart the kernel to use updated packages.\n"
     ]
    }
   ],
   "source": [
    "pip install gomaps"
   ]
  },
  {
   "cell_type": "code",
   "execution_count": null,
   "id": "29f90d80-489c-47a6-9d06-31c778359ab0",
   "metadata": {},
   "outputs": [],
   "source": [
    "\n"
   ]
  },
  {
   "cell_type": "code",
   "execution_count": 6,
   "id": "1d309509-0187-4e19-a19c-6aa81094b987",
   "metadata": {},
   "outputs": [
    {
     "name": "stdout",
     "output_type": "stream",
     "text": [
      "Collecting geopy\n",
      "  Downloading geopy-2.4.1-py3-none-any.whl.metadata (6.8 kB)\n",
      "Collecting geographiclib<3,>=1.52 (from geopy)\n",
      "  Downloading geographiclib-2.0-py3-none-any.whl.metadata (1.4 kB)\n",
      "Downloading geopy-2.4.1-py3-none-any.whl (125 kB)\n",
      "Downloading geographiclib-2.0-py3-none-any.whl (40 kB)\n",
      "Installing collected packages: geographiclib, geopy\n",
      "Successfully installed geographiclib-2.0 geopy-2.4.1\n"
     ]
    }
   ],
   "source": [
    "!pip install geopy\n",
    "\n"
   ]
  },
  {
   "cell_type": "code",
   "execution_count": 9,
   "id": "4f2e548e-b406-45cc-a22d-83aecc4cc522",
   "metadata": {},
   "outputs": [
    {
     "name": "stdout",
     "output_type": "stream",
     "text": [
      "Distance matrix has been saved to 'distance_matrix.csv'\n"
     ]
    }
   ],
   "source": [
    "import pandas as pd\n",
    "import numpy as np\n",
    "from geopy.distance import geodesic  # Using Haversine formula\n",
    "\n",
    "# Load the CSV file\n",
    "df = pd.read_csv('finaldata.csv')\n",
    "\n",
    "# Extract latitude and longitude into a list of tuples\n",
    "coordinates = list(zip(df['latitude'], df['longitude']))\n",
    "\n",
    "# Initialize an empty distance matrix\n",
    "num_locations = len(coordinates)\n",
    "distance_matrix = np.zeros((num_locations, num_locations))\n",
    "\n",
    "# Calculate the distance between each pair of locations\n",
    "for i in range(num_locations):\n",
    "    for j in range(i, num_locations):  # Symmetric matrix, so we calculate only half\n",
    "        if i != j:\n",
    "            # Use Haversine formula (geodesic) to calculate the distance\n",
    "            dist = geodesic(coordinates[i], coordinates[j]).kilometers\n",
    "            distance_matrix[i][j] = dist\n",
    "            distance_matrix[j][i] = dist  # Symmetric distance\n",
    "        else:\n",
    "            distance_matrix[i][j] = 0  # Distance to itself is zero\n",
    "\n",
    "# Convert the matrix into a DataFrame for better readability\n",
    "distance_matrix_df = pd.DataFrame(distance_matrix, columns=df['locations'], index=df['locations'])\n",
    "\n",
    "# Save the distance matrix to a CSV file\n",
    "distance_matrix_df.to_csv('distance_matrix.csv')\n",
    "\n",
    "print(\"Distance matrix has been saved to 'distance_matrix.csv'\")\n",
    "\n"
   ]
  },
  {
   "cell_type": "code",
   "execution_count": 1,
   "id": "44ec43bf-96f5-4d8d-9178-4041a9d340b7",
   "metadata": {},
   "outputs": [
    {
     "name": "stdout",
     "output_type": "stream",
     "text": [
      "Distance matrix has been saved to 'distance_matrix.npy'\n"
     ]
    }
   ],
   "source": [
    "import pandas as pd\n",
    "import numpy as np\n",
    "from geopy.distance import geodesic  # Using Haversine formula\n",
    "\n",
    "# Load the CSV file\n",
    "df = pd.read_csv('finaldata.csv')\n",
    "\n",
    "# Extract latitude and longitude into a list of tuples\n",
    "coordinates = list(zip(df['latitude'], df['longitude']))\n",
    "\n",
    "# Initialize an empty distance matrix\n",
    "num_locations = len(coordinates)\n",
    "distance_matrix = np.zeros((num_locations, num_locations))\n",
    "\n",
    "# Calculate the distance between each pair of locations\n",
    "for i in range(num_locations):\n",
    "    for j in range(i, num_locations):  # Symmetric matrix, so we calculate only half\n",
    "        if i != j:\n",
    "            # Use Haversine formula (geodesic) to calculate the distance\n",
    "            dist = geodesic(coordinates[i], coordinates[j]).kilometers\n",
    "            distance_matrix[i][j] = dist\n",
    "            distance_matrix[j][i] = dist  # Symmetric distance\n",
    "        else:\n",
    "            distance_matrix[i][j] = 0  # Distance to itself is zero\n",
    "\n",
    "# Convert the matrix into a DataFrame for better readability\n",
    "distance_matrix_df = pd.DataFrame(distance_matrix, columns=df['locations'], index=df['locations'])\n",
    "\n",
    "# Save the distance matrix to a .npy file\n",
    "np.save('distance_matrix.npy', distance_matrix)\n",
    "\n",
    "print(\"Distance matrix has been saved to 'distance_matrix.npy'\")\n"
   ]
  },
  {
   "cell_type": "code",
   "execution_count": null,
   "id": "89fb4d9d-f684-4c2f-a8e1-e2c811584074",
   "metadata": {},
   "outputs": [],
   "source": []
  }
 ],
 "metadata": {
  "kernelspec": {
   "display_name": "Python 3 (ipykernel)",
   "language": "python",
   "name": "python3"
  },
  "language_info": {
   "codemirror_mode": {
    "name": "ipython",
    "version": 3
   },
   "file_extension": ".py",
   "mimetype": "text/x-python",
   "name": "python",
   "nbconvert_exporter": "python",
   "pygments_lexer": "ipython3",
   "version": "3.9.20"
  }
 },
 "nbformat": 4,
 "nbformat_minor": 5
}
