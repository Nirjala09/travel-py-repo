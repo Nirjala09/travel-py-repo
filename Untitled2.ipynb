{
 "cells": [
  {
   "cell_type": "code",
   "execution_count": 5,
   "id": "1911c923-32f6-46e8-a564-830a424f06da",
   "metadata": {},
   "outputs": [
    {
     "name": "stdout",
     "output_type": "stream",
     "text": [
      "Distance matrix saved as formatted_distance_matrix.npy\n"
     ]
    }
   ],
   "source": [
    "import pandas as pd\n",
    "import numpy as np\n",
    "\n",
    "# Load CSV file\n",
    "csv_file = \"formatted_distance_matrix.csv\"\n",
    "df = pd.read_csv(csv_file, index_col=0)\n",
    "\n",
    "# Function to convert distance values\n",
    "def convert_distance(value):\n",
    "    value = str(value).strip()  # Ensure it's a string and remove whitespace\n",
    "    if \" m\" in value:  # Convert meters to km\n",
    "        return float(value.replace(\" m\", \"\")) / 1000\n",
    "    elif \" km\" in value:  # Convert km to float\n",
    "        return float(value.replace(\" km\", \"\"))\n",
    "    return np.nan  # Handle unexpected cases\n",
    "\n",
    "# Apply conversion to all values\n",
    "df = df.apply(lambda col: col.map(convert_distance))\n",
    "\n",
    "# Convert DataFrame to NumPy array\n",
    "distance_matrix = df.to_numpy()\n",
    "\n",
    "# Save as .npy file\n",
    "npy_file = \"formatted_distance_matrix.npy\"\n",
    "np.save(npy_file, distance_matrix)\n",
    "\n",
    "print(f\"Distance matrix saved as {npy_file}\")\n",
    "\n",
    "\n"
   ]
  },
  {
   "cell_type": "code",
   "execution_count": null,
   "id": "c684d010-831b-434c-bec4-9acb7b3399c3",
   "metadata": {},
   "outputs": [],
   "source": []
  }
 ],
 "metadata": {
  "kernelspec": {
   "display_name": "Python 3 (ipykernel)",
   "language": "python",
   "name": "python3"
  },
  "language_info": {
   "codemirror_mode": {
    "name": "ipython",
    "version": 3
   },
   "file_extension": ".py",
   "mimetype": "text/x-python",
   "name": "python",
   "nbconvert_exporter": "python",
   "pygments_lexer": "ipython3",
   "version": "3.9.20"
  }
 },
 "nbformat": 4,
 "nbformat_minor": 5
}
