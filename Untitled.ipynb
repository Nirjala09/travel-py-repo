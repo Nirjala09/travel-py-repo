{
 "cells": [
  {
   "cell_type": "code",
   "execution_count": 1,
   "id": "95522c36-3b18-47d5-8022-4fd0846ce93e",
   "metadata": {},
   "outputs": [
    {
     "name": "stdout",
     "output_type": "stream",
     "text": [
      "Requirement already satisfied: requests in c:\\users\\gcpra\\anaconda3\\envs\\condaenv\\lib\\site-packages (2.32.3)\n",
      "Requirement already satisfied: pandas in c:\\users\\gcpra\\anaconda3\\envs\\condaenv\\lib\\site-packages (2.2.3)\n",
      "Requirement already satisfied: charset-normalizer<4,>=2 in c:\\users\\gcpra\\anaconda3\\envs\\condaenv\\lib\\site-packages (from requests) (3.3.2)\n",
      "Requirement already satisfied: idna<4,>=2.5 in c:\\users\\gcpra\\anaconda3\\envs\\condaenv\\lib\\site-packages (from requests) (3.10)\n",
      "Requirement already satisfied: urllib3<3,>=1.21.1 in c:\\users\\gcpra\\anaconda3\\envs\\condaenv\\lib\\site-packages (from requests) (1.26.20)\n",
      "Requirement already satisfied: certifi>=2017.4.17 in c:\\users\\gcpra\\anaconda3\\envs\\condaenv\\lib\\site-packages (from requests) (2024.8.30)\n",
      "Requirement already satisfied: numpy>=1.22.4 in c:\\users\\gcpra\\anaconda3\\envs\\condaenv\\lib\\site-packages (from pandas) (2.0.2)\n",
      "Requirement already satisfied: python-dateutil>=2.8.2 in c:\\users\\gcpra\\anaconda3\\envs\\condaenv\\lib\\site-packages (from pandas) (2.9.0.post0)\n",
      "Requirement already satisfied: pytz>=2020.1 in c:\\users\\gcpra\\anaconda3\\envs\\condaenv\\lib\\site-packages (from pandas) (2024.1)\n",
      "Requirement already satisfied: tzdata>=2022.7 in c:\\users\\gcpra\\anaconda3\\envs\\condaenv\\lib\\site-packages (from pandas) (2024.2)\n",
      "Requirement already satisfied: six>=1.5 in c:\\users\\gcpra\\anaconda3\\envs\\condaenv\\lib\\site-packages (from python-dateutil>=2.8.2->pandas) (1.16.0)\n",
      "Note: you may need to restart the kernel to use updated packages.\n"
     ]
    }
   ],
   "source": [
    "pip install requests pandas\n"
   ]
  },
  {
   "cell_type": "code",
   "execution_count": null,
   "id": "1c9b87ae-05fa-4e84-a613-66fb83b14242",
   "metadata": {},
   "outputs": [],
   "source": [
    "import requests\n",
    "import pandas as pd\n",
    "import time\n",
    "\n",
    "# Google API Key\n",
    "API_KEY = \"YOUR_GOOGLE_PLACES_API_KEY\"\n",
    "\n",
    "# Function to get place details from Google Places API\n",
    "def get_place_details(name, lat, lng):\n",
    "    base_url = \"https://maps.googleapis.com/maps/api/place/nearbysearch/json\"\n",
    "    params = {\n",
    "        \"location\": f\"{lat},{lng}\",\n",
    "        \"radius\": 100,  # Search within 100 meters\n",
    "        \"keyword\": name,  # Match the name\n",
    "        \"key\": API_KEY\n",
    "    }\n",
    "\n",
    "    response = requests.get(base_url, params=params)\n",
    "    data = response.json()\n",
    "\n",
    "    if \"results\" in data and len(data[\"results\"]) > 0:\n",
    "        place = data[\"results\"][0]  # Take the first match\n",
    "        types = \", \".join(place.get(\"types\", []))  # Category types\n",
    "        description = place.get(\"vicinity\", \"No description available\")  # Short description\n",
    "        return types, description\n",
    "    return \"Unknown\", \"No description available\"\n",
    "\n",
    "# Load CSV file\n",
    "csv_file = \"finaldata_1.csv\"  # Replace with your actual CSV file\n",
    "df = pd.read_csv(csv_file)\n",
    "\n",
    "# Create new columns for categories & descriptions\n",
    "df[\"Category\"] = \"\"\n",
    "df[\"Description\"] = \"\"\n",
    "\n",
    "# Loop through each row and fetch details\n",
    "for index, row in df.iterrows():\n",
    "    name, lat, lng = row[\"locations\"], row[\"latitude\"], row[\"longitude\"]\n",
    "    category, description = get_place_details(name, lat, lng)\n",
    "    df.at[index, \"Category\"] = category\n",
    "    df.at[index, \"Description\"] = description\n",
    "    print(f\"Processed: {name} -> {category}\")\n",
    "    \n",
    "    time.sleep(1)  # Avoid exceeding API rate limits\n",
    "\n",
    "# Save updated data\n",
    "output_file = \"locations_with_details.csv\"\n",
    "df.to_csv(output_file, index=False)\n",
    "print(f\"Results saved to {output_file}\")\n"
   ]
  }
 ],
 "metadata": {
  "kernelspec": {
   "display_name": "Python 3 (ipykernel)",
   "language": "python",
   "name": "python3"
  },
  "language_info": {
   "codemirror_mode": {
    "name": "ipython",
    "version": 3
   },
   "file_extension": ".py",
   "mimetype": "text/x-python",
   "name": "python",
   "nbconvert_exporter": "python",
   "pygments_lexer": "ipython3",
   "version": "3.9.20"
  }
 },
 "nbformat": 4,
 "nbformat_minor": 5
}
